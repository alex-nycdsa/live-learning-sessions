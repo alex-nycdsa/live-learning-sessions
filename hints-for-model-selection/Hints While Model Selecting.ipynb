{
 "cells": [
  {
   "cell_type": "markdown",
   "metadata": {},
   "source": [
    "# Hints While Model Selecting"
   ]
  },
  {
   "cell_type": "markdown",
   "metadata": {},
   "source": [
    "### Abstract:\n",
    "\n",
    "We will create a classifier to try to identify handwritten digits 0-9 in the infamous [MNIST](https://en.wikipedia.org/wiki/MNIST_database) dataset. Each image is $28\\text{px} \\times 28\\text{px}$, resulting in a total of $784$ pixels per image. We use the 60000 images+labels training set and 10000 images+labels test set which comes standard within the `keras` api through `tensorflow 2.0+`. "
   ]
  },
  {
   "cell_type": "markdown",
   "metadata": {},
   "source": [
    "### Objectives:\n",
    "\n",
    "  - Create a few baseline models during EDA\n",
    "  - Describe how observations in our baseline models might guide us towards a more sophisticated model\n",
    "  - Choose between several model types after baseline based on application\n",
    "  - Understand how to create persistence in models and Python objects"
   ]
  },
  {
   "cell_type": "markdown",
   "metadata": {},
   "source": [
    "## Chapter 1: Requisite Loading"
   ]
  },
  {
   "cell_type": "code",
   "execution_count": 1,
   "metadata": {},
   "outputs": [],
   "source": [
    "%matplotlib inline\n",
    "import numpy as np\n",
    "import pandas as pd\n",
    "import matplotlib.pyplot as plt\n",
    "from tensorflow.keras.datasets import mnist\n",
    "# import our own helper functions\n",
    "from src.helpers import ravel_images, save_object, open_object"
   ]
  },
  {
   "cell_type": "code",
   "execution_count": 2,
   "metadata": {},
   "outputs": [],
   "source": [
    "# Load the MNIST data\n",
    "(Xtrain,ytrain), (Xtest,ytest) = mnist.load_data()"
   ]
  },
  {
   "cell_type": "code",
   "execution_count": 3,
   "metadata": {},
   "outputs": [
    {
     "data": {
      "image/png": "[encoded data removed]",
      "text/plain": [
       "<Figure size 432x288 with 3 Axes>"
      ]
     },
     "metadata": {
      "needs_background": "light"
     },
     "output_type": "display_data"
    }
   ],
   "source": [
    "# Visualize a few \n",
    "fig, ax = plt.subplots(1,3)\n",
    "ax[0].imshow(Xtrain[0], cmap = 'gray')\n",
    "ax[1].imshow(Xtrain[1], cmap = 'gray')\n",
    "ax[2].imshow(Xtrain[2], cmap = 'gray')\n",
    "plt.show()"
   ]
  },
  {
   "cell_type": "markdown",
   "metadata": {},
   "source": [
    "### Flattening for what follows\n",
    "\n",
    "At this point, `Xtrain/Xtest` are 3-D arrays, where `Xtrain[i]` is the $28 \\times 28$ array with the image. The general technique to coerce the feature tensor into a recognizable 2-D feature matrix is to ravel/flatten each image into a 784-long array into a row. This means that each pixel position in the images is considered its own feature. What will remain after the flattening of the images will be a training feature matrix of dimension $60000 \\times 784$ and testing feature matrix of dimension $10000 \\times 784$. "
   ]
  },
  {
   "cell_type": "code",
   "execution_count": 4,
   "metadata": {},
   "outputs": [],
   "source": [
    "# Flatten the image tensors into feature matrices\n",
    "Xtrain, Xtest = ravel_images(Xtrain), ravel_images(Xtest)"
   ]
  },
  {
   "cell_type": "code",
   "execution_count": 5,
   "metadata": {},
   "outputs": [
    {
     "name": "stdout",
     "output_type": "stream",
     "text": [
      "Training shape: (60000, 784) | Testing feature shape: (10000, 784)\n"
     ]
    }
   ],
   "source": [
    "print(f\"Training shape: {Xtrain.shape} | Testing feature shape: {Xtest.shape}\")"
   ]
  },
  {
   "cell_type": "markdown",
   "metadata": {},
   "source": [
    "## Chapter 2: Brainstorm Before Baselining"
   ]
  },
  {
   "cell_type": "markdown",
   "metadata": {},
   "source": [
    "We will create data frames/series for `Xtrain` and `ytrain` to allow for some easy exploration."
   ]
  },
  {
   "cell_type": "code",
   "execution_count": 6,
   "metadata": {},
   "outputs": [
    {
     "data": {
      "text/html": [
       "<div>\n",
       "<style scoped>\n",
       "    .dataframe tbody tr th:only-of-type {\n",
       "        vertical-align: middle;\n",
       "    }\n",
       "\n",
       "    .dataframe tbody tr th {\n",
       "        vertical-align: top;\n",
       "    }\n",
       "\n",
       "    .dataframe thead th {\n",
       "        text-align: right;\n",
       "    }\n",
       "</style>\n",
       "<table border=\"1\" class=\"dataframe\">\n",
       "  <thead>\n",
       "    <tr style=\"text-align: right;\">\n",
       "      <th></th>\n",
       "      <th>px0</th>\n",
       "      <th>px1</th>\n",
       "      <th>px2</th>\n",
       "      <th>px3</th>\n",
       "      <th>px4</th>\n",
       "      <th>px5</th>\n",
       "      <th>px6</th>\n",
       "      <th>px7</th>\n",
       "      <th>px8</th>\n",
       "      <th>px9</th>\n",
       "      <th>...</th>\n",
       "      <th>px775</th>\n",
       "      <th>px776</th>\n",
       "      <th>px777</th>\n",
       "      <th>px778</th>\n",
       "      <th>px779</th>\n",
       "      <th>px780</th>\n",
       "      <th>px781</th>\n",
       "      <th>px782</th>\n",
       "      <th>px783</th>\n",
       "      <th>label</th>\n",
       "    </tr>\n",
       "  </thead>\n",
       "  <tbody>\n",
       "    <tr>\n",
       "      <th>0</th>\n",
       "      <td>0</td>\n",
       "      <td>0</td>\n",
       "      <td>0</td>\n",
       "      <td>0</td>\n",
       "      <td>0</td>\n",
       "      <td>0</td>\n",
       "      <td>0</td>\n",
       "      <td>0</td>\n",
       "      <td>0</td>\n",
       "      <td>0</td>\n",
       "      <td>...</td>\n",
       "      <td>0</td>\n",
       "      <td>0</td>\n",
       "      <td>0</td>\n",
       "      <td>0</td>\n",
       "      <td>0</td>\n",
       "      <td>0</td>\n",
       "      <td>0</td>\n",
       "      <td>0</td>\n",
       "      <td>0</td>\n",
       "      <td>5</td>\n",
       "    </tr>\n",
       "    <tr>\n",
       "      <th>1</th>\n",
       "      <td>0</td>\n",
       "      <td>0</td>\n",
       "      <td>0</td>\n",
       "      <td>0</td>\n",
       "      <td>0</td>\n",
       "      <td>0</td>\n",
       "      <td>0</td>\n",
       "      <td>0</td>\n",
       "      <td>0</td>\n",
       "      <td>0</td>\n",
       "      <td>...</td>\n",
       "      <td>0</td>\n",
       "      <td>0</td>\n",
       "      <td>0</td>\n",
       "      <td>0</td>\n",
       "      <td>0</td>\n",
       "      <td>0</td>\n",
       "      <td>0</td>\n",
       "      <td>0</td>\n",
       "      <td>0</td>\n",
       "      <td>0</td>\n",
       "    </tr>\n",
       "    <tr>\n",
       "      <th>2</th>\n",
       "      <td>0</td>\n",
       "      <td>0</td>\n",
       "      <td>0</td>\n",
       "      <td>0</td>\n",
       "      <td>0</td>\n",
       "      <td>0</td>\n",
       "      <td>0</td>\n",
       "      <td>0</td>\n",
       "      <td>0</td>\n",
       "      <td>0</td>\n",
       "      <td>...</td>\n",
       "      <td>0</td>\n",
       "      <td>0</td>\n",
       "      <td>0</td>\n",
       "      <td>0</td>\n",
       "      <td>0</td>\n",
       "      <td>0</td>\n",
       "      <td>0</td>\n",
       "      <td>0</td>\n",
       "      <td>0</td>\n",
       "      <td>4</td>\n",
       "    </tr>\n",
       "    <tr>\n",
       "      <th>3</th>\n",
       "      <td>0</td>\n",
       "      <td>0</td>\n",
       "      <td>0</td>\n",
       "      <td>0</td>\n",
       "      <td>0</td>\n",
       "      <td>0</td>\n",
       "      <td>0</td>\n",
       "      <td>0</td>\n",
       "      <td>0</td>\n",
       "      <td>0</td>\n",
       "      <td>...</td>\n",
       "      <td>0</td>\n",
       "      <td>0</td>\n",
       "      <td>0</td>\n",
       "      <td>0</td>\n",
       "      <td>0</td>\n",
       "      <td>0</td>\n",
       "      <td>0</td>\n",
       "      <td>0</td>\n",
       "      <td>0</td>\n",
       "      <td>1</td>\n",
       "    </tr>\n",
       "    <tr>\n",
       "      <th>4</th>\n",
       "      <td>0</td>\n",
       "      <td>0</td>\n",
       "      <td>0</td>\n",
       "      <td>0</td>\n",
       "      <td>0</td>\n",
       "      <td>0</td>\n",
       "      <td>0</td>\n",
       "      <td>0</td>\n",
       "      <td>0</td>\n",
       "      <td>0</td>\n",
       "      <td>...</td>\n",
       "      <td>0</td>\n",
       "      <td>0</td>\n",
       "      <td>0</td>\n",
       "      <td>0</td>\n",
       "      <td>0</td>\n",
       "      <td>0</td>\n",
       "      <td>0</td>\n",
       "      <td>0</td>\n",
       "      <td>0</td>\n",
       "      <td>9</td>\n",
       "    </tr>\n",
       "  </tbody>\n",
       "</table>\n",
       "<p>5 rows × 785 columns</p>\n",
       "</div>"
      ],
      "text/plain": [
       "   px0  px1  px2  px3  px4  px5  px6  px7  px8  px9  ...  px775  px776  px777  \\\n",
       "0    0    0    0    0    0    0    0    0    0    0  ...      0      0      0   \n",
       "1    0    0    0    0    0    0    0    0    0    0  ...      0      0      0   \n",
       "2    0    0    0    0    0    0    0    0    0    0  ...      0      0      0   \n",
       "3    0    0    0    0    0    0    0    0    0    0  ...      0      0      0   \n",
       "4    0    0    0    0    0    0    0    0    0    0  ...      0      0      0   \n",
       "\n",
       "   px778  px779  px780  px781  px782  px783  label  \n",
       "0      0      0      0      0      0      0      5  \n",
       "1      0      0      0      0      0      0      0  \n",
       "2      0      0      0      0      0      0      4  \n",
       "3      0      0      0      0      0      0      1  \n",
       "4      0      0      0      0      0      0      9  \n",
       "\n",
       "[5 rows x 785 columns]"
      ]
     },
     "execution_count": 6,
     "metadata": {},
     "output_type": "execute_result"
    }
   ],
   "source": [
    "Xtrain = pd.DataFrame(Xtrain, columns = [f\"px{i}\" for i in range(784)])\n",
    "ytrain = pd.Series(ytrain, name = 'label')\n",
    "\n",
    "# Get a look at the structuire\n",
    "pd.concat((Xtrain,ytrain), axis = 1).head()"
   ]
  },
  {
   "cell_type": "code",
   "execution_count": 7,
   "metadata": {},
   "outputs": [
    {
     "data": {
      "image/png": "[encoded data removed]",
      "text/plain": [
       "<Figure size 432x288 with 1 Axes>"
      ]
     },
     "metadata": {
      "needs_background": "light"
     },
     "output_type": "display_data"
    }
   ],
   "source": [
    "# Check for balance in our target\n",
    "ytrain.value_counts().sort_index().plot(kind = 'bar')\n",
    "plt.show()"
   ]
  },
  {
   "cell_type": "code",
   "execution_count": 8,
   "metadata": {},
   "outputs": [
    {
     "name": "stdout",
     "output_type": "stream",
     "text": [
      "There are 71 columns with no non-zero entry.\n"
     ]
    },
    {
     "data": {
      "image/png": "[encoded data removed]",
      "text/plain": [
       "<Figure size 432x288 with 1 Axes>"
      ]
     },
     "metadata": {
      "needs_background": "light"
     },
     "output_type": "display_data"
    }
   ],
   "source": [
    "# Considering all the 0s we see, let's look at the variances\n",
    "Xvar = (Xtrain ** 2).sum(axis = 0)\n",
    "print(f\"There are {(Xvar == 0).sum()} columns with no non-zero entry.\")\n",
    "Xvar.hist(bins = 50)\n",
    "plt.show()"
   ]
  },
  {
   "cell_type": "code",
   "execution_count": 9,
   "metadata": {},
   "outputs": [
    {
     "data": {
      "image/png": "[encoded data removed]",
      "text/plain": [
       "<Figure size 432x288 with 9 Axes>"
      ]
     },
     "metadata": {
      "needs_background": "light"
     },
     "output_type": "display_data"
    }
   ],
   "source": [
    "# We also consider what the distribution looks like\n",
    "XhighVar = Xtrain.loc[:,Xvar > 0.5e6]\n",
    "XhighVar.iloc[:,np.random.choice(range(XhighVar.shape[1]), 9)].hist(log = True)\n",
    "plt.show()"
   ]
  },
  {
   "cell_type": "markdown",
   "metadata": {},
   "source": [
    "### The brainstorming conversation"
   ]
  },
  {
   "cell_type": "markdown",
   "metadata": {},
   "source": [
    "Our goal is to create a couple baseline classification models to compare before moving into finer tuning, in hopes to get some direction in that tuning. \n",
    "\n",
    "Let us first consider some possible models in our purposes:\n",
    "- `LogisiticRegression`:\n",
    "  - **Pro**: Easy to gauge how good/bad linear decision boundaries might work.\n",
    "  - **Pro**: If linear decision boundaries might be a reasonable choice, we can easily gauge between bias/variance (via `C` in `sklearn`) to think about. \n",
    "  - **Con**: If linear decision boundaries are not a good choice, either we need to do much better feature engineering, or move to a non-linear model.\n",
    "  - **Con**: With many features that aren't very interpretable from the start, injecting domain knowledge into feature engineering can be painful, and we will nonetheless likely need to reduce feature count. \n",
    "  \n",
    "- `LinearDiscriminantAnalysis`:\n",
    "  - **Pro**: Easy to gauge how good/bad linear decision boundaries might work.\n",
    "  - **Pro**: Can perform similarly to LogisticRegression, but has more assumptions from its Bayesian classifier roots. \n",
    "  - **Pro**: We can reduce the feature space (via `n_components`) in a similar, but not exactly the same as PCA procedure that is intrinsict to LDA. \n",
    "  - **Con**: If linear decision boundaries are not a good choice, either we need to do much better feature engineering, or move to a non-linear model.\n",
    "  - **Con**: With many features that aren't very interpretable from the start, injecting domain knowledge into feature engineering can be painful, and we will nonetheless likely need to reduce feature count. \n",
    "  - **Con**: Do we look Gaussian? \n",
    "  \n",
    "- `QuadraticDiscriminantAnalysis`:\n",
    "  - **Pro**: Can create a more complex decision boundary than the linear types whose shape in the feature space is somewhat recognizable.\n",
    "  - **Con**: No bias/variance tradeoff nor many other tuning parameters to consider.\n",
    "  - **Con**: Do we look Gaussian?\n",
    "  \n",
    "- `SVC`:\n",
    "  - **Pro**: Can have non-linear boundaries with some variety. A good step if we want a low-dimensional polynomial boundary, for example. \n",
    "  - **Con**: Training can take a long time. \n",
    "  \n",
    "- `RandomForestClassifier` or `GradientBoostingClassifier`: \n",
    "  - **Pro**: This is a powerful classifier which often works well \"out of the box\". \n",
    "  - **Pro**: As a tree based model, it works well with categorical columns, particularly of ordinal type. \n",
    "  - **Pro**: Many columns can help de-correlate trees to help more with mitigating high variance.\n",
    "  - **Pro and Con**: While we can get a feel for how bad the overfitting is, it usually takes a fair amount of tuning to get a handle on it (`n_estimators`, `max_depth`, `ccp_alpha`, etc). \n",
    "  - **Con**: Random forest is still looking to be highly non-linear and is still possible to overfit. \n",
    "  - **Con**: Lose some ability to gauge where to aim with different models since we don't learn much about decision boundaries. "
   ]
  },
  {
   "cell_type": "markdown",
   "metadata": {},
   "source": [
    "What we will do: \n",
    "\n",
    "1. Very basic preprocessing by removing all columns that are constantly 0\n",
    "2. Because we have a reasonably large dataset, we will downsample our training data by a factor of 10 and 5 so that our baseline classifiers train faster and to gauge how important adding more data into the training is to create a good classifier.\n",
    "3. Train a `LogisticRegression` classifier (per downsample) with \"out-of-the-box\" performance, to probe how linear decision boundaries work and where we land in the bias/variance tradeoff.\n",
    "4. Train a `QDA` classifier (per downsample) with \"out-of-the-box\" performance, to probe how the non-linear decision boundaries work and where we land compared to the logistic regression.\n",
    "5. Based on previous two, make a few feature engineering adjustments if needed."
   ]
  },
  {
   "cell_type": "markdown",
   "metadata": {},
   "source": [
    "## Chapter 3: First Baseline Modeling"
   ]
  },
  {
   "cell_type": "code",
   "execution_count": 10,
   "metadata": {},
   "outputs": [],
   "source": [
    "from sklearn.model_selection import cross_validate"
   ]
  },
  {
   "cell_type": "markdown",
   "metadata": {},
   "source": [
    "### 3.1: Basic preprocessing\n",
    "\n",
    "We've already done some preprocessing by flattening each image, now we remove the columns of all 0s."
   ]
  },
  {
   "cell_type": "code",
   "execution_count": 11,
   "metadata": {},
   "outputs": [],
   "source": [
    "class Remove0VarCols(object):\n",
    "    \n",
    "    def init(self):\n",
    "        self.keep_cols = None\n",
    "        self.been_fit = False\n",
    "    \n",
    "    def fit(self, X):\n",
    "        self.keep_cols = ~((X**2).sum(axis = 0) == 0)\n",
    "        self.been_fit = True\n",
    "        return self\n",
    "        \n",
    "    def transform(self, X):\n",
    "        if not self.been_fit:\n",
    "            raise Exception(\"Need to fit on training before transforming.\")\n",
    "        return np.array(X)[:, self.keep_cols]"
   ]
  },
  {
   "cell_type": "code",
   "execution_count": 12,
   "metadata": {},
   "outputs": [
    {
     "data": {
      "text/plain": [
       "(60000, 713)"
      ]
     },
     "execution_count": 12,
     "metadata": {},
     "output_type": "execute_result"
    }
   ],
   "source": [
    "# Train on the training data!\n",
    "rm0var = Remove0VarCols()\n",
    "Xtrain_cl = rm0var.fit(Xtrain).transform(Xtrain)\n",
    "Xtrain_cl.shape"
   ]
  },
  {
   "cell_type": "code",
   "execution_count": 13,
   "metadata": {},
   "outputs": [
    {
     "data": {
      "text/plain": [
       "(10000, 713)"
      ]
     },
     "execution_count": 13,
     "metadata": {},
     "output_type": "execute_result"
    }
   ],
   "source": [
    "# Note: once fit, can apply to Xtest without worry\n",
    "rm0var.transform(Xtest).shape"
   ]
  },
  {
   "cell_type": "markdown",
   "metadata": {},
   "source": [
    "### 3.2: Downsample"
   ]
  },
  {
   "cell_type": "code",
   "execution_count": 14,
   "metadata": {
    "scrolled": true
   },
   "outputs": [],
   "source": [
    "from sklearn.utils import resample\n",
    "\n",
    "X10,y10 = resample(Xtrain_cl, ytrain, \n",
    "                   n_samples = Xtrain.shape[0]//10,\n",
    "                   replace = False)\n",
    "X5,y5 = resample(Xtrain_cl, ytrain,\n",
    "                 n_samples = Xtrain.shape[0]//5,\n",
    "                 replace = False)"
   ]
  },
  {
   "cell_type": "markdown",
   "metadata": {},
   "source": [
    "### 3.3: Logistic Regression Baseline"
   ]
  },
  {
   "cell_type": "code",
   "execution_count": 15,
   "metadata": {},
   "outputs": [],
   "source": [
    "from sklearn.linear_model import LogisticRegression\n",
    "\n",
    "logr = LogisticRegression(max_iter = 2500)"
   ]
  },
  {
   "cell_type": "code",
   "execution_count": 16,
   "metadata": {},
   "outputs": [],
   "source": [
    "logr_cv10_fp = 'output/logr_cv10.pk'\n",
    "logr_cv5_fp = 'output/logr_cv5.pk'"
   ]
  },
  {
   "cell_type": "code",
   "execution_count": 17,
   "metadata": {
    "scrolled": true
   },
   "outputs": [
    {
     "name": "stdout",
     "output_type": "stream",
     "text": [
      "Logistic Regression CV for 1/10 downsample loaded\n",
      "Logistic Regression CV for 1/5 downsample loaded\n"
     ]
    }
   ],
   "source": [
    "# Baseline logistic regression on X10, y10\n",
    "logr_cv10 = open_object(logr_cv10_fp)\n",
    "if logr_cv10 is None:\n",
    "    print(\"Recreating logr_cv10\")\n",
    "    logr_cv10 = cross_validate(logr, X10, y10, cv = 5, return_train_score = True)\n",
    "print(\"Logistic Regression CV for 1/10 downsample loaded\")\n",
    "\n",
    "# Baseline logistic regression on X5, y5\n",
    "logr_cv5 = open_object(logr_cv5_fp)\n",
    "if logr_cv5 is None:\n",
    "    print(\"Recreating logr_cv5\")\n",
    "    logr_cv5 = cross_validate(logr, X5, y5, cv = 5, return_train_score = True)\n",
    "print(\"Logistic Regression CV for 1/5 downsample loaded\")"
   ]
  },
  {
   "cell_type": "code",
   "execution_count": 18,
   "metadata": {},
   "outputs": [
    {
     "name": "stdout",
     "output_type": "stream",
     "text": [
      "Filepath output/logr_cv10.pk already exists.\n",
      "Rewrite anyway? ([y] or n): n\n",
      "Filepath output/logr_cv5.pk already exists.\n",
      "Rewrite anyway? ([y] or n): n\n"
     ]
    },
    {
     "data": {
      "text/plain": [
       "'output/logr_cv5.pk'"
      ]
     },
     "execution_count": 18,
     "metadata": {},
     "output_type": "execute_result"
    }
   ],
   "source": [
    "# Persistence for logistic regression models\n",
    "save_object(logr_cv10, logr_cv10_fp)\n",
    "save_object(logr_cv5, logr_cv5_fp)"
   ]
  },
  {
   "cell_type": "code",
   "execution_count": 19,
   "metadata": {
    "scrolled": true
   },
   "outputs": [
    {
     "name": "stdout",
     "output_type": "stream",
     "text": [
      "1/10 LogReg Train 1.0 | Test 0.8711666666666668\n",
      "1/5 LogReg Train 1.0 | Test 0.8580833333333334\n"
     ]
    }
   ],
   "source": [
    "print(f\"1/10 LogReg Train {logr_cv10['train_score'].mean()} | Test {logr_cv10['test_score'].mean()}\")\n",
    "print(f\"1/5 LogReg Train {logr_cv5['train_score'].mean()} | Test {logr_cv5['test_score'].mean()}\")"
   ]
  },
  {
   "cell_type": "markdown",
   "metadata": {},
   "source": [
    "#### Lessons:\n",
    "\n",
    "We learned that as is, logistic regression is overfitting and there weren't too many gains by adding in more data. We should then be able to check a range of `C` values which are smaller than $1$ and try again if we want to stick to linear decision boundaries. We should also consider LDA with decreasing number of components or perhaps using PCA before running logistic regression. "
   ]
  },
  {
   "cell_type": "markdown",
   "metadata": {},
   "source": [
    "### 3.4: QDA Baselines"
   ]
  },
  {
   "cell_type": "code",
   "execution_count": 20,
   "metadata": {},
   "outputs": [],
   "source": [
    "from sklearn.discriminant_analysis import QuadraticDiscriminantAnalysis as QDA\n",
    "\n",
    "qda = QDA()"
   ]
  },
  {
   "cell_type": "code",
   "execution_count": 21,
   "metadata": {},
   "outputs": [],
   "source": [
    "qda_cv10_fp = 'output/qda_cv10.pk'\n",
    "qda_cv5_fp = 'output/qda_cv5.pk'"
   ]
  },
  {
   "cell_type": "code",
   "execution_count": 22,
   "metadata": {
    "scrolled": true
   },
   "outputs": [
    {
     "name": "stdout",
     "output_type": "stream",
     "text": [
      "QDA CV for 1/10 downsample loaded\n",
      "QDA CV for 1/5 downsample loaded\n"
     ]
    }
   ],
   "source": [
    "# Baseline QDA on X10, y10\n",
    "qda_cv10 = open_object(qda_cv10_fp)\n",
    "if qda_cv10 is None:\n",
    "    print(\"Recreating qda_cv10\")\n",
    "    qda_cv10 = cross_validate(qda, X10, y10, cv = 5, return_train_score = True)\n",
    "print(\"QDA CV for 1/10 downsample loaded\")\n",
    "\n",
    "# Baseline QDA on X5, y5\n",
    "qda_cv5 = open_object(qda_cv5_fp)\n",
    "if qda_cv5 is None:\n",
    "    print(\"Recreating qda_cv5\")\n",
    "    qda_cv5 = cross_validate(qda, X5, y5, cv = 5, return_train_score = True)\n",
    "print(\"QDA CV for 1/5 downsample loaded\")"
   ]
  },
  {
   "cell_type": "code",
   "execution_count": 23,
   "metadata": {},
   "outputs": [
    {
     "name": "stdout",
     "output_type": "stream",
     "text": [
      "Filepath output/qda_cv10.pk already exists.\n",
      "Rewrite anyway? ([y] or n): n\n",
      "Filepath output/qda_cv5.pk already exists.\n",
      "Rewrite anyway? ([y] or n): n\n"
     ]
    },
    {
     "data": {
      "text/plain": [
       "'output/qda_cv5.pk'"
      ]
     },
     "execution_count": 23,
     "metadata": {},
     "output_type": "execute_result"
    }
   ],
   "source": [
    "# Persistence for QDA models\n",
    "save_object(qda_cv10, qda_cv10_fp)\n",
    "save_object(qda_cv5, qda_cv5_fp)"
   ]
  },
  {
   "cell_type": "code",
   "execution_count": 24,
   "metadata": {},
   "outputs": [
    {
     "name": "stdout",
     "output_type": "stream",
     "text": [
      "1/10 QDA Train 0.9964166666666665 | Test 0.5254999999999999\n",
      "1/5 QDA Train 0.8408541666666668 | Test 0.6764999999999999\n"
     ]
    }
   ],
   "source": [
    "print(f\"1/10 QDA Train {qda_cv10['train_score'].mean()} | Test {qda_cv10['test_score'].mean()}\")\n",
    "print(f\"1/5 QDA Train {qda_cv5['train_score'].mean()} | Test {qda_cv5['test_score'].mean()}\")"
   ]
  },
  {
   "cell_type": "markdown",
   "metadata": {},
   "source": [
    "#### Lessons: \n",
    "Certainly we have trouble with multicollinearity, so someway to mitigate that would be ideal. We also see the overfitting like before. Note that we're note getting perfect train scores though -- this is likely do to the nature of assumptions over each class, we might have expected this to be bad (why?)! Also, we see an improvement with increasing the number of samples.\n",
    "\n",
    "There is one lesson here though that is useful. If we have a more complicated, non-linear model, the quantity of data may help more than in the linear case. This might suggest to keep non-linear models in mind, but expect better performance at the large-quantity-of-data side of things."
   ]
  },
  {
   "cell_type": "markdown",
   "metadata": {},
   "source": [
    "### 3.4: Some adjustments\n",
    "\n",
    "From our conversation above, I would like to try something else. I would like to try PCA to reduce feature space dimension before jumping into logistic regression. This might help us deal with the over-fitting. Again, we are doing this to probe, so we won't fine tune here too much. We will use the 1/5 downsample here as it provides more observations and might better resemble the full sample."
   ]
  },
  {
   "cell_type": "markdown",
   "metadata": {},
   "source": [
    "##### Exercise: \n",
    "Why and when might you choose probing PCA over varying `C` in LogisticRegression?"
   ]
  },
  {
   "cell_type": "code",
   "execution_count": 25,
   "metadata": {},
   "outputs": [
    {
     "name": "stdout",
     "output_type": "stream",
     "text": [
      "Filepath output/X5pca_cv.pk already exists.\n",
      "Rewrite anyway? ([y] or n): n\n"
     ]
    },
    {
     "data": {
      "text/plain": [
       "'output/X5pca_cv.pk'"
      ]
     },
     "execution_count": 25,
     "metadata": {},
     "output_type": "execute_result"
    }
   ],
   "source": [
    "from sklearn.preprocessing import StandardScaler\n",
    "from sklearn.decomposition import PCA\n",
    "# Preprocessing\n",
    "ss = StandardScaler()\n",
    "pca = PCA()\n",
    "# Standardize and apply PCA\n",
    "X5pca = pca.fit_transform(ss.fit_transform(X5))\n",
    "\n",
    "ex_var = [0.8, 0.9, 0.95]\n",
    "\n",
    "X5pca_cv_fp = 'output/X5pca_cv.pk'\n",
    "\n",
    "X5pca_cv = open_object(X5pca_cv_fp)\n",
    "if X5pca_cv is None:\n",
    "    print(\"Recreating X5pca_cv\")\n",
    "    X5pca_cv = []\n",
    "    for ev in ex_var:\n",
    "        Xtemp = X5pca[:,pca.explained_variance_ratio_.cumsum() < ev]\n",
    "        X5pca_cv.append((ev,cross_validate(logr, Xtemp, y5, \n",
    "                                           cv = 5, \n",
    "                                           return_train_score = True)))\n",
    "\n",
    "save_object(X5pca_cv, X5pca_cv_fp)"
   ]
  },
  {
   "cell_type": "code",
   "execution_count": 26,
   "metadata": {},
   "outputs": [
    {
     "data": {
      "text/plain": [
       "[(0.8,\n",
       "  {'fit_time': array([2.96354198, 2.983073  , 3.14295197, 2.69420576, 2.64024687]),\n",
       "   'score_time': array([0.00208282, 0.00123596, 0.00103879, 0.00100994, 0.00102305]),\n",
       "   'test_score': array([0.90208333, 0.90083333, 0.89416667, 0.89166667, 0.91      ]),\n",
       "   'train_score': array([0.93645833, 0.93666667, 0.93635417, 0.9346875 , 0.93291667])}),\n",
       " (0.9,\n",
       "  {'fit_time': array([4.29148388, 4.34254694, 4.45237923, 4.58346891, 4.47796917]),\n",
       "   'score_time': array([0.00141311, 0.00133777, 0.00135183, 0.00134516, 0.00136089]),\n",
       "   'test_score': array([0.89208333, 0.90041667, 0.89708333, 0.88916667, 0.9025    ]),\n",
       "   'train_score': array([0.94989583, 0.94677083, 0.94729167, 0.9475    , 0.94614583])}),\n",
       " (0.95,\n",
       "  {'fit_time': array([5.89850998, 5.59914994, 6.07005787, 4.97401381, 6.42305207]),\n",
       "   'score_time': array([0.00217128, 0.00155115, 0.00159001, 0.00159383, 0.00180507]),\n",
       "   'test_score': array([0.88125   , 0.89666667, 0.88291667, 0.88083333, 0.89208333]),\n",
       "   'train_score': array([0.96104167, 0.95927083, 0.95989583, 0.960625  , 0.95885417])})]"
      ]
     },
     "execution_count": 26,
     "metadata": {},
     "output_type": "execute_result"
    }
   ],
   "source": [
    "# Investigate\n",
    "X5pca_cv"
   ]
  },
  {
   "cell_type": "markdown",
   "metadata": {},
   "source": [
    "#### Lesson:\n",
    "\n",
    "This helped us a lot with overfitting. We also have a reasonable baseline accuracy performance metric to run off with. It seems we should expect at least a 90% accuracy if we now search deeper! Comparing our train and test scores, it seems that a PCA which keeps between 80%-90% of explained variance does quite well. "
   ]
  },
  {
   "cell_type": "markdown",
   "metadata": {},
   "source": [
    "## Chapter 4: Moving Up "
   ]
  },
  {
   "cell_type": "markdown",
   "metadata": {},
   "source": [
    "Finally, let's move back to full training data set with the following lessons in mind:\n",
    "\n",
    "- It's easy to overfit -- even with linear decision boundaries -- without some feature engineering.\n",
    "- Scaling and PCA at ~85% explained variance seems to help and create a reasonable model when used before LogisticRegression.\n",
    "- Increasing the amount of data may improve our models performance if we move to slightly more-than-linear decision boundaries.\n",
    "\n",
    "So, now that we have some perspective, my concluding attempt is the following hoping for a better baseline to then judge other probes into a more powerful classifier:\n",
    "\n",
    "Use `SVC` to create a linear and low-D polynomial decision boundaries after scaling and applying PCA with 85% explained variance. (Again, this is just another trial, not complete fine tuning). "
   ]
  },
  {
   "cell_type": "code",
   "execution_count": 27,
   "metadata": {},
   "outputs": [],
   "source": [
    "# Here are the full preprocessing steps we want.\n",
    "\n",
    "# Already done above, but let's not forget\n",
    "rm0var = Remove0VarCols()\n",
    "Xtrain_cl = rm0var.fit(Xtrain).transform(Xtrain)\n",
    "\n",
    "# Standardize and PCA\n",
    "ss = StandardScaler()\n",
    "pca = PCA(n_components=0.85)\n",
    "Xtrain_cl = ss.fit_transform(Xtrain_cl)\n",
    "Xtrain_cl = pca.fit_transform(Xtrain_cl)\n",
    "\n",
    "# Reproduce for test and beyond!\n",
    "def preprocess(X):\n",
    "    retX = rm0var.transform(X)\n",
    "    retX = ss.transform(retX)\n",
    "    return pca.transform(retX)"
   ]
  },
  {
   "cell_type": "code",
   "execution_count": 33,
   "metadata": {},
   "outputs": [
    {
     "name": "stdout",
     "output_type": "stream",
     "text": [
      "Error [Errno 2] No such file or directory: 'output/svc_cv.pk' occurred while trying to open pickle file output/svc_cv.pk.\n",
      "Recreating svc_cv\n"
     ]
    },
    {
     "data": {
      "text/plain": [
       "'output/svc_cv.pk'"
      ]
     },
     "execution_count": 33,
     "metadata": {},
     "output_type": "execute_result"
    }
   ],
   "source": [
    "from sklearn.svm import SVC\n",
    "from sklearn.model_selection import GridSearchCV, KFold\n",
    "\n",
    "# Create SVC instance\n",
    "svc = SVC()\n",
    "\n",
    "# Set up grid search params\n",
    "kf5 = KFold(n_splits = 5, shuffle = True)\n",
    "svc_params = {'kernel':['poly'], 'degree':[1,2]}\n",
    "\n",
    "# Output file for persistence\n",
    "svc_cv_fp = 'output/svc_cv.pk'\n",
    "\n",
    "# If this grid search has been created, use it!\n",
    "svc_cv = open_object(svc_cv_fp)\n",
    "\n",
    "# If not, let's do it!\n",
    "if svc_cv is None:\n",
    "    print(\"Recreating svc_cv\")\n",
    "    svc_cv = GridSearchCV(estimator=svc, \n",
    "                          param_grid=svc_params,\n",
    "                          return_train_score=True,\n",
    "                          cv = kf5,\n",
    "                          refit = True)\n",
    "    svc_cv.fit(Xtrain_cl, ytrain)\n",
    "    \n",
    "# Save the grid search if not already saved\n",
    "save_object(svc_cv, svc_cv_fp)"
   ]
  },
  {
   "cell_type": "code",
   "execution_count": 34,
   "metadata": {},
   "outputs": [
    {
     "name": "stdout",
     "output_type": "stream",
     "text": [
      "With the parameters {'degree': 2, 'kernel': 'poly'}:\n",
      "\t- Best CV score: 0.9713499999999999\n"
     ]
    }
   ],
   "source": [
    "# Investigate\n",
    "print(f\"With the parameters {svc_cv.best_params_}:\")\n",
    "print(f\"\\t- Best CV score: {svc_cv.best_score_}\")"
   ]
  },
  {
   "cell_type": "code",
   "execution_count": null,
   "metadata": {},
   "outputs": [],
   "source": []
  }
 ],
 "metadata": {
  "kernelspec": {
   "display_name": "hint_lls",
   "language": "python",
   "name": "hint_lls"
  },
  "language_info": {
   "codemirror_mode": {
    "name": "ipython",
    "version": 3
   },
   "file_extension": ".py",
   "mimetype": "text/x-python",
   "name": "python",
   "nbconvert_exporter": "python",
   "pygments_lexer": "ipython3",
   "version": "3.7.6"
  }
 },
 "nbformat": 4,
 "nbformat_minor": 4
}
